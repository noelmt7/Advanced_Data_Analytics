{
 "cells": [
  {
   "cell_type": "markdown",
   "metadata": {},
   "source": [
    "### Scraping the Reddit data \n",
    "![alt text](reddit_pranked.png) "
   ]
  },
  {
   "cell_type": "markdown",
   "metadata": {},
   "source": [
    "Initial Steps \n",
    "1) Creation of Reddit API - https://www.reddit.com/prefs/apps\n",
    "2) Make a note of Secret and the Id for the app\n",
    "3) Install PRAW (Python Reddit API Wrapper) -> Acts like a wrapper for reddit, \n",
    "   Navigate - https://praw.readthedocs.io/en/stable/"
   ]
  },
  {
   "cell_type": "markdown",
   "metadata": {},
   "source": [
    "Good to go "
   ]
  },
  {
   "cell_type": "code",
   "execution_count": 96,
   "metadata": {},
   "outputs": [],
   "source": [
    "import praw # Wrapper\n",
    "import pandas\n",
    "import matplotlib\n",
    "import nltk\n",
    "from pprint import PrettyPrinter\n",
    "from nltk.sentiment.vader import SentimentIntensityAnalyzer"
   ]
  },
  {
   "cell_type": "code",
   "execution_count": 39,
   "metadata": {},
   "outputs": [
    {
     "data": {
      "text/plain": [
       "True"
      ]
     },
     "execution_count": 39,
     "metadata": {},
     "output_type": "execute_result"
    }
   ],
   "source": [
    "nltk.download('vader_lexicon',quiet = True)"
   ]
  },
  {
   "cell_type": "code",
   "execution_count": 3,
   "metadata": {},
   "outputs": [],
   "source": [
    "user = \"anonymous\"\n",
    " \n",
    "reddit = praw.Reddit(\n",
    "    client_id = \"\",\n",
    "    client_secret = \"\",\n",
    "    user_agent= user\n",
    "    \n",
    ")"
   ]
  },
  {
   "cell_type": "code",
   "execution_count": 31,
   "metadata": {},
   "outputs": [
    {
     "name": "stdout",
     "output_type": "stream",
     "text": [
      "915\n"
     ]
    }
   ],
   "source": [
    "getheadlines = set() # To avoid duplicates\n",
    "for content in reddit.subreddit('conspiracy').hot(limit=None):\n",
    "    \n",
    "    getheadlines.add(content.title)\n",
    "    # print(content.id)\n",
    "    # print(content.title)\n",
    "    # print(content.author)\n",
    "    \n",
    "print(len(getheadlines))"
   ]
  },
  {
   "cell_type": "markdown",
   "metadata": {},
   "source": [
    "Inference: 915 Submissions are there in conspiracy community under hot category. "
   ]
  },
  {
   "cell_type": "markdown",
   "metadata": {},
   "source": [
    "Lot of features we can access by using subreddit.\n",
    "\n",
    "Navigate - https://praw.readthedocs.io/en/stable/code_overview/models/subreddit.html#praw.models.Subreddit"
   ]
  },
  {
   "cell_type": "code",
   "execution_count": 34,
   "metadata": {},
   "outputs": [
    {
     "data": {
      "text/html": [
       "<div>\n",
       "<style scoped>\n",
       "    .dataframe tbody tr th:only-of-type {\n",
       "        vertical-align: middle;\n",
       "    }\n",
       "\n",
       "    .dataframe tbody tr th {\n",
       "        vertical-align: top;\n",
       "    }\n",
       "\n",
       "    .dataframe thead th {\n",
       "        text-align: right;\n",
       "    }\n",
       "</style>\n",
       "<table border=\"1\" class=\"dataframe\">\n",
       "  <thead>\n",
       "    <tr style=\"text-align: right;\">\n",
       "      <th></th>\n",
       "      <th>0</th>\n",
       "    </tr>\n",
       "  </thead>\n",
       "  <tbody>\n",
       "    <tr>\n",
       "      <th>0</th>\n",
       "      <td>My 3 yo daughter keeps repeating this for no r...</td>\n",
       "    </tr>\n",
       "    <tr>\n",
       "      <th>1</th>\n",
       "      <td>Tachyons may be behind precognition/clairvoyance</td>\n",
       "    </tr>\n",
       "    <tr>\n",
       "      <th>2</th>\n",
       "      <td>Lady Diana - Murdered or Accident</td>\n",
       "    </tr>\n",
       "    <tr>\n",
       "      <th>3</th>\n",
       "      <td>Just my 2 cents</td>\n",
       "    </tr>\n",
       "    <tr>\n",
       "      <th>4</th>\n",
       "      <td>Bethel park school shooting threats</td>\n",
       "    </tr>\n",
       "  </tbody>\n",
       "</table>\n",
       "</div>"
      ],
      "text/plain": [
       "                                                   0\n",
       "0  My 3 yo daughter keeps repeating this for no r...\n",
       "1   Tachyons may be behind precognition/clairvoyance\n",
       "2                  Lady Diana - Murdered or Accident\n",
       "3                                    Just my 2 cents\n",
       "4                Bethel park school shooting threats"
      ]
     },
     "execution_count": 34,
     "metadata": {},
     "output_type": "execute_result"
    }
   ],
   "source": [
    "redditdf = pandas.DataFrame(getheadlines)\n",
    "redditdf.head()"
   ]
  },
  {
   "cell_type": "markdown",
   "metadata": {},
   "source": [
    "Inference: Converted the reddit data (headlines) into a dataframe for further analysis."
   ]
  },
  {
   "cell_type": "code",
   "execution_count": 35,
   "metadata": {},
   "outputs": [],
   "source": [
    "redditdf.to_csv(\"redditdata.csv\",encoding='utf-8',index=False,header=False)"
   ]
  },
  {
   "cell_type": "markdown",
   "metadata": {},
   "source": [
    "Inference: Saved the reddit data into a csv file."
   ]
  },
  {
   "cell_type": "markdown",
   "metadata": {},
   "source": [
    "Sentiment Analysis on the Data"
   ]
  },
  {
   "cell_type": "code",
   "execution_count": 47,
   "metadata": {},
   "outputs": [
    {
     "name": "stdout",
     "output_type": "stream",
     "text": [
      "[{'neg': 0.258, 'neu': 0.742, 'pos': 0.0, 'compound': -0.4184, 'headlines': 'My 3 yo daughter keeps repeating this for no reason!!'}]\n"
     ]
    }
   ],
   "source": [
    "analyse = SentimentIntensityAnalyzer()\n",
    "outcome = []\n",
    "\n",
    "for row in getheadlines:\n",
    "    sentiment = analyse.polarity_scores(row)\n",
    "    sentiment['headlines'] = row\n",
    "    outcome.append(sentiment)\n",
    "print(outcome[:1])"
   ]
  },
  {
   "cell_type": "code",
   "execution_count": 54,
   "metadata": {},
   "outputs": [
    {
     "data": {
      "text/html": [
       "<div>\n",
       "<style scoped>\n",
       "    .dataframe tbody tr th:only-of-type {\n",
       "        vertical-align: middle;\n",
       "    }\n",
       "\n",
       "    .dataframe tbody tr th {\n",
       "        vertical-align: top;\n",
       "    }\n",
       "\n",
       "    .dataframe thead th {\n",
       "        text-align: right;\n",
       "    }\n",
       "</style>\n",
       "<table border=\"1\" class=\"dataframe\">\n",
       "  <thead>\n",
       "    <tr style=\"text-align: right;\">\n",
       "      <th></th>\n",
       "      <th>neg</th>\n",
       "      <th>neu</th>\n",
       "      <th>pos</th>\n",
       "      <th>compound</th>\n",
       "      <th>headlines</th>\n",
       "    </tr>\n",
       "  </thead>\n",
       "  <tbody>\n",
       "    <tr>\n",
       "      <th>0</th>\n",
       "      <td>0.258</td>\n",
       "      <td>0.742</td>\n",
       "      <td>0.0</td>\n",
       "      <td>-0.4184</td>\n",
       "      <td>My 3 yo daughter keeps repeating this for no r...</td>\n",
       "    </tr>\n",
       "    <tr>\n",
       "      <th>1</th>\n",
       "      <td>0.000</td>\n",
       "      <td>1.000</td>\n",
       "      <td>0.0</td>\n",
       "      <td>0.0000</td>\n",
       "      <td>Tachyons may be behind precognition/clairvoyance</td>\n",
       "    </tr>\n",
       "    <tr>\n",
       "      <th>2</th>\n",
       "      <td>0.714</td>\n",
       "      <td>0.286</td>\n",
       "      <td>0.0</td>\n",
       "      <td>-0.8176</td>\n",
       "      <td>Lady Diana - Murdered or Accident</td>\n",
       "    </tr>\n",
       "    <tr>\n",
       "      <th>3</th>\n",
       "      <td>0.000</td>\n",
       "      <td>1.000</td>\n",
       "      <td>0.0</td>\n",
       "      <td>0.0000</td>\n",
       "      <td>Just my 2 cents</td>\n",
       "    </tr>\n",
       "    <tr>\n",
       "      <th>4</th>\n",
       "      <td>0.412</td>\n",
       "      <td>0.588</td>\n",
       "      <td>0.0</td>\n",
       "      <td>-0.4215</td>\n",
       "      <td>Bethel park school shooting threats</td>\n",
       "    </tr>\n",
       "  </tbody>\n",
       "</table>\n",
       "</div>"
      ],
      "text/plain": [
       "     neg    neu  pos  compound  \\\n",
       "0  0.258  0.742  0.0   -0.4184   \n",
       "1  0.000  1.000  0.0    0.0000   \n",
       "2  0.714  0.286  0.0   -0.8176   \n",
       "3  0.000  1.000  0.0    0.0000   \n",
       "4  0.412  0.588  0.0   -0.4215   \n",
       "\n",
       "                                           headlines  \n",
       "0  My 3 yo daughter keeps repeating this for no r...  \n",
       "1   Tachyons may be behind precognition/clairvoyance  \n",
       "2                  Lady Diana - Murdered or Accident  \n",
       "3                                    Just my 2 cents  \n",
       "4                Bethel park school shooting threats  "
      ]
     },
     "execution_count": 54,
     "metadata": {},
     "output_type": "execute_result"
    }
   ],
   "source": [
    "newdf = pandas.DataFrame.from_records(outcome)\n",
    "newdf.head()"
   ]
  },
  {
   "cell_type": "code",
   "execution_count": 55,
   "metadata": {},
   "outputs": [],
   "source": [
    "newdf['label'] = 0\n",
    "newdf.loc[newdf['compound'] > 0.2, 'label'] = 1 # Positive\n",
    "newdf.loc[newdf['compound'] < -0.2, 'label'] = -1 # Negative"
   ]
  },
  {
   "cell_type": "code",
   "execution_count": 82,
   "metadata": {},
   "outputs": [
    {
     "data": {
      "text/html": [
       "<div>\n",
       "<style scoped>\n",
       "    .dataframe tbody tr th:only-of-type {\n",
       "        vertical-align: middle;\n",
       "    }\n",
       "\n",
       "    .dataframe tbody tr th {\n",
       "        vertical-align: top;\n",
       "    }\n",
       "\n",
       "    .dataframe thead th {\n",
       "        text-align: right;\n",
       "    }\n",
       "</style>\n",
       "<table border=\"1\" class=\"dataframe\">\n",
       "  <thead>\n",
       "    <tr style=\"text-align: right;\">\n",
       "      <th></th>\n",
       "      <th>neg</th>\n",
       "      <th>neu</th>\n",
       "      <th>pos</th>\n",
       "      <th>compound</th>\n",
       "      <th>headlines</th>\n",
       "      <th>label</th>\n",
       "    </tr>\n",
       "  </thead>\n",
       "  <tbody>\n",
       "    <tr>\n",
       "      <th>0</th>\n",
       "      <td>0.258</td>\n",
       "      <td>0.742</td>\n",
       "      <td>0.000</td>\n",
       "      <td>-0.4184</td>\n",
       "      <td>My 3 yo daughter keeps repeating this for no r...</td>\n",
       "      <td>-1</td>\n",
       "    </tr>\n",
       "    <tr>\n",
       "      <th>1</th>\n",
       "      <td>0.000</td>\n",
       "      <td>1.000</td>\n",
       "      <td>0.000</td>\n",
       "      <td>0.0000</td>\n",
       "      <td>Tachyons may be behind precognition/clairvoyance</td>\n",
       "      <td>0</td>\n",
       "    </tr>\n",
       "    <tr>\n",
       "      <th>2</th>\n",
       "      <td>0.714</td>\n",
       "      <td>0.286</td>\n",
       "      <td>0.000</td>\n",
       "      <td>-0.8176</td>\n",
       "      <td>Lady Diana - Murdered or Accident</td>\n",
       "      <td>-1</td>\n",
       "    </tr>\n",
       "    <tr>\n",
       "      <th>3</th>\n",
       "      <td>0.000</td>\n",
       "      <td>1.000</td>\n",
       "      <td>0.000</td>\n",
       "      <td>0.0000</td>\n",
       "      <td>Just my 2 cents</td>\n",
       "      <td>0</td>\n",
       "    </tr>\n",
       "    <tr>\n",
       "      <th>4</th>\n",
       "      <td>0.412</td>\n",
       "      <td>0.588</td>\n",
       "      <td>0.000</td>\n",
       "      <td>-0.4215</td>\n",
       "      <td>Bethel park school shooting threats</td>\n",
       "      <td>-1</td>\n",
       "    </tr>\n",
       "    <tr>\n",
       "      <th>5</th>\n",
       "      <td>0.417</td>\n",
       "      <td>0.583</td>\n",
       "      <td>0.000</td>\n",
       "      <td>-0.6486</td>\n",
       "      <td>If the dead internet theory is true..</td>\n",
       "      <td>-1</td>\n",
       "    </tr>\n",
       "    <tr>\n",
       "      <th>6</th>\n",
       "      <td>0.000</td>\n",
       "      <td>1.000</td>\n",
       "      <td>0.000</td>\n",
       "      <td>0.0000</td>\n",
       "      <td>Audio analysis 2 shooters at Trump rally - Chr...</td>\n",
       "      <td>0</td>\n",
       "    </tr>\n",
       "    <tr>\n",
       "      <th>7</th>\n",
       "      <td>0.000</td>\n",
       "      <td>1.000</td>\n",
       "      <td>0.000</td>\n",
       "      <td>0.0000</td>\n",
       "      <td>Trump wasn’t supposed to make it</td>\n",
       "      <td>0</td>\n",
       "    </tr>\n",
       "    <tr>\n",
       "      <th>8</th>\n",
       "      <td>0.252</td>\n",
       "      <td>0.748</td>\n",
       "      <td>0.000</td>\n",
       "      <td>-0.7227</td>\n",
       "      <td>But if you say that “Jews are secretly running...</td>\n",
       "      <td>-1</td>\n",
       "    </tr>\n",
       "    <tr>\n",
       "      <th>9</th>\n",
       "      <td>0.000</td>\n",
       "      <td>0.896</td>\n",
       "      <td>0.104</td>\n",
       "      <td>0.4404</td>\n",
       "      <td>The Democratic national committee protected Bi...</td>\n",
       "      <td>1</td>\n",
       "    </tr>\n",
       "    <tr>\n",
       "      <th>10</th>\n",
       "      <td>0.000</td>\n",
       "      <td>1.000</td>\n",
       "      <td>0.000</td>\n",
       "      <td>0.0000</td>\n",
       "      <td>Biden Exiting Race Sunday</td>\n",
       "      <td>0</td>\n",
       "    </tr>\n",
       "    <tr>\n",
       "      <th>11</th>\n",
       "      <td>0.000</td>\n",
       "      <td>0.687</td>\n",
       "      <td>0.313</td>\n",
       "      <td>0.6249</td>\n",
       "      <td>The Great Replacement is real. Here are facts ...</td>\n",
       "      <td>1</td>\n",
       "    </tr>\n",
       "    <tr>\n",
       "      <th>12</th>\n",
       "      <td>0.000</td>\n",
       "      <td>0.690</td>\n",
       "      <td>0.310</td>\n",
       "      <td>0.4019</td>\n",
       "      <td>Thomas Matthew Crooks’ Motive— Independent Par...</td>\n",
       "      <td>1</td>\n",
       "    </tr>\n",
       "    <tr>\n",
       "      <th>13</th>\n",
       "      <td>0.000</td>\n",
       "      <td>1.000</td>\n",
       "      <td>0.000</td>\n",
       "      <td>0.0000</td>\n",
       "      <td>Second shooter in Water tower..</td>\n",
       "      <td>0</td>\n",
       "    </tr>\n",
       "    <tr>\n",
       "      <th>14</th>\n",
       "      <td>0.394</td>\n",
       "      <td>0.606</td>\n",
       "      <td>0.000</td>\n",
       "      <td>-0.5994</td>\n",
       "      <td>Catalyst Events and The Trump Assassination At...</td>\n",
       "      <td>-1</td>\n",
       "    </tr>\n",
       "  </tbody>\n",
       "</table>\n",
       "</div>"
      ],
      "text/plain": [
       "      neg    neu    pos  compound  \\\n",
       "0   0.258  0.742  0.000   -0.4184   \n",
       "1   0.000  1.000  0.000    0.0000   \n",
       "2   0.714  0.286  0.000   -0.8176   \n",
       "3   0.000  1.000  0.000    0.0000   \n",
       "4   0.412  0.588  0.000   -0.4215   \n",
       "5   0.417  0.583  0.000   -0.6486   \n",
       "6   0.000  1.000  0.000    0.0000   \n",
       "7   0.000  1.000  0.000    0.0000   \n",
       "8   0.252  0.748  0.000   -0.7227   \n",
       "9   0.000  0.896  0.104    0.4404   \n",
       "10  0.000  1.000  0.000    0.0000   \n",
       "11  0.000  0.687  0.313    0.6249   \n",
       "12  0.000  0.690  0.310    0.4019   \n",
       "13  0.000  1.000  0.000    0.0000   \n",
       "14  0.394  0.606  0.000   -0.5994   \n",
       "\n",
       "                                            headlines  label  \n",
       "0   My 3 yo daughter keeps repeating this for no r...     -1  \n",
       "1    Tachyons may be behind precognition/clairvoyance      0  \n",
       "2                   Lady Diana - Murdered or Accident     -1  \n",
       "3                                     Just my 2 cents      0  \n",
       "4                 Bethel park school shooting threats     -1  \n",
       "5              If the dead internet theory is true..      -1  \n",
       "6   Audio analysis 2 shooters at Trump rally - Chr...      0  \n",
       "7                    Trump wasn’t supposed to make it      0  \n",
       "8   But if you say that “Jews are secretly running...     -1  \n",
       "9   The Democratic national committee protected Bi...      1  \n",
       "10                          Biden Exiting Race Sunday      0  \n",
       "11  The Great Replacement is real. Here are facts ...      1  \n",
       "12  Thomas Matthew Crooks’ Motive— Independent Par...      1  \n",
       "13                    Second shooter in Water tower..      0  \n",
       "14  Catalyst Events and The Trump Assassination At...     -1  "
      ]
     },
     "execution_count": 82,
     "metadata": {},
     "output_type": "execute_result"
    }
   ],
   "source": [
    "newdf.head(15)"
   ]
  },
  {
   "cell_type": "code",
   "execution_count": 63,
   "metadata": {},
   "outputs": [],
   "source": [
    "newdf.to_csv('finaldata.csv',encoding=\"utf-8\")"
   ]
  },
  {
   "cell_type": "code",
   "execution_count": 67,
   "metadata": {},
   "outputs": [
    {
     "data": {
      "text/plain": [
       "label\n",
       " 0    471\n",
       "-1    286\n",
       " 1    158\n",
       "Name: count, dtype: int64"
      ]
     },
     "execution_count": 67,
     "metadata": {},
     "output_type": "execute_result"
    }
   ],
   "source": [
    "newdf['label'].value_counts()\n"
   ]
  },
  {
   "cell_type": "code",
   "execution_count": 99,
   "metadata": {},
   "outputs": [],
   "source": [
    "pp = PrettyPrinter()"
   ]
  },
  {
   "cell_type": "code",
   "execution_count": 106,
   "metadata": {},
   "outputs": [
    {
     "name": "stdout",
     "output_type": "stream",
     "text": [
      "<class 'module'>\n"
     ]
    }
   ],
   "source": [
    "print(type(pprint))"
   ]
  },
  {
   "cell_type": "code",
   "execution_count": 110,
   "metadata": {},
   "outputs": [
    {
     "name": "stdout",
     "output_type": "stream",
     "text": [
      "Postive Headlines\n",
      "['The Democratic national committee protected Biden from debating RFK Jr. '\n",
      " 'during the primaries. Had they not everyone would have seen these '\n",
      " 'deficiencies and not a tenable candidate.',\n",
      " 'The Great Replacement is real. Here are facts for Greece. ',\n",
      " 'Thomas Matthew Crooks’ Motive— Independent Party Affiliation',\n",
      " \"Baron Trump's Marvelous Underground Journey by Ingersol Lockwood 1892\",\n",
      " 'This is pretty creepy if you ask me',\n",
      " 'Interesting theory. Snipers in building actually were the ones who shot at '\n",
      " 'Trump and the boy on the roof was the fall guy.']\n"
     ]
    }
   ],
   "source": [
    "print(\"Postive Headlines\")\n",
    "positive_list = list(newdf[newdf['label'] == 1].headlines)[:6]\n",
    "pp.pprint(positive_list)"
   ]
  },
  {
   "cell_type": "code",
   "execution_count": 109,
   "metadata": {},
   "outputs": [
    {
     "name": "stdout",
     "output_type": "stream",
     "text": [
      "Neutral Headlines\n",
      "['Tachyons may be behind precognition/clairvoyance',\n",
      " 'Just my 2 cents',\n",
      " 'Audio analysis 2 shooters at Trump rally - Chris Martenson',\n",
      " 'Trump wasn’t supposed to make it',\n",
      " 'Biden Exiting Race Sunday',\n",
      " 'Second shooter in Water tower..']\n"
     ]
    }
   ],
   "source": [
    "print(\"Neutral Headlines\")\n",
    "neutral_list = list(newdf[newdf['label'] == 0].headlines)[:6]\n",
    "pp.pprint(neutral_list)"
   ]
  },
  {
   "cell_type": "code",
   "execution_count": 108,
   "metadata": {},
   "outputs": [
    {
     "name": "stdout",
     "output_type": "stream",
     "text": [
      "Negative Headlines\n",
      "['My 3 yo daughter keeps repeating this for no reason!!',\n",
      " 'Lady Diana - Murdered or Accident',\n",
      " 'Bethel park school shooting threats',\n",
      " 'If the dead internet theory is true.. ',\n",
      " 'But if you say that “Jews are secretly running the government”, that is '\n",
      " 'antisemitic hate speech',\n",
      " 'Catalyst Events and The Trump Assassination Attempt']\n"
     ]
    }
   ],
   "source": [
    "print(\"Negative Headlines\")\n",
    "negative_list = list(newdf[newdf['label'] == -1].headlines)[:6]\n",
    "pp.pprint(negative_list)"
   ]
  },
  {
   "cell_type": "markdown",
   "metadata": {},
   "source": [
    "Inference: Displayed the sentiments of the headlines."
   ]
  },
  {
   "cell_type": "code",
   "execution_count": 91,
   "metadata": {},
   "outputs": [
    {
     "name": "stdout",
     "output_type": "stream",
     "text": [
      "label\n",
      " 0    47100\n",
      "-1    28600\n",
      " 1    15800\n",
      "Name: count, dtype: int64\n"
     ]
    }
   ],
   "source": [
    "print(newdf['label'].value_counts() * 100)"
   ]
  },
  {
   "cell_type": "markdown",
   "metadata": {},
   "source": [
    "Inference: Displayed the Percentage of each sentiments of the headlines."
   ]
  },
  {
   "cell_type": "markdown",
   "metadata": {},
   "source": [
    "![alt text](reddit_clap.png)"
   ]
  },
  {
   "cell_type": "markdown",
   "metadata": {},
   "source": [
    "Conclusion\n",
    "\n",
    "Scraped the data from reddit social media by accessing Reddit API, used PRAW python library for the communication. And at last analysed the sentiments of a specific topic going on reddit. With the usage of the reddit data, created a dataset so that it can be used for further model buiding and stuffs."
   ]
  }
 ],
 "metadata": {
  "kernelspec": {
   "display_name": "venv",
   "language": "python",
   "name": "python3"
  },
  "language_info": {
   "codemirror_mode": {
    "name": "ipython",
    "version": 3
   },
   "file_extension": ".py",
   "mimetype": "text/x-python",
   "name": "python",
   "nbconvert_exporter": "python",
   "pygments_lexer": "ipython3",
   "version": "3.9.6"
  }
 },
 "nbformat": 4,
 "nbformat_minor": 2
}
