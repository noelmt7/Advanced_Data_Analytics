{
 "cells": [
  {
   "cell_type": "markdown",
   "metadata": {},
   "source": []
  },
  {
   "cell_type": "code",
   "execution_count": 36,
   "metadata": {},
   "outputs": [
    {
     "name": "stdout",
     "output_type": "stream",
     "text": [
      "Requirement already satisfied: openpyxl in c:\\users\\noelm\\appdata\\local\\programs\\python\\python312\\lib\\site-packages (3.1.5)\n",
      "Requirement already satisfied: et-xmlfile in c:\\users\\noelm\\appdata\\local\\programs\\python\\python312\\lib\\site-packages (from openpyxl) (1.1.0)\n",
      "Note: you may need to restart the kernel to use updated packages.\n"
     ]
    }
   ],
   "source": [
    "pip install openpyxl"
   ]
  },
  {
   "cell_type": "code",
   "execution_count": 37,
   "metadata": {},
   "outputs": [
    {
     "name": "stdout",
     "output_type": "stream",
     "text": [
      "Requirement already satisfied: python-dotenv in c:\\users\\noelm\\appdata\\local\\programs\\python\\python312\\lib\\site-packages (1.0.1)\n",
      "Note: you may need to restart the kernel to use updated packages.\n"
     ]
    }
   ],
   "source": [
    "pip install python-dotenv"
   ]
  },
  {
   "cell_type": "code",
   "execution_count": 38,
   "metadata": {},
   "outputs": [
    {
     "name": "stdout",
     "output_type": "stream",
     "text": [
      "Requirement already satisfied: firecrawl in c:\\users\\noelm\\appdata\\local\\programs\\python\\python312\\lib\\site-packages (0.0.20)\n",
      "Requirement already satisfied: requests in c:\\users\\noelm\\appdata\\local\\programs\\python\\python312\\lib\\site-packages (from firecrawl) (2.32.3)\n",
      "Requirement already satisfied: charset-normalizer<4,>=2 in c:\\users\\noelm\\appdata\\local\\programs\\python\\python312\\lib\\site-packages (from requests->firecrawl) (3.3.2)\n",
      "Requirement already satisfied: idna<4,>=2.5 in c:\\users\\noelm\\appdata\\local\\programs\\python\\python312\\lib\\site-packages (from requests->firecrawl) (3.7)\n",
      "Requirement already satisfied: urllib3<3,>=1.21.1 in c:\\users\\noelm\\appdata\\local\\programs\\python\\python312\\lib\\site-packages (from requests->firecrawl) (2.2.2)\n",
      "Requirement already satisfied: certifi>=2017.4.17 in c:\\users\\noelm\\appdata\\local\\programs\\python\\python312\\lib\\site-packages (from requests->firecrawl) (2024.7.4)\n",
      "Note: you may need to restart the kernel to use updated packages.\n"
     ]
    }
   ],
   "source": [
    "pip install firecrawl"
   ]
  },
  {
   "cell_type": "code",
   "execution_count": 39,
   "metadata": {},
   "outputs": [
    {
     "name": "stdout",
     "output_type": "stream",
     "text": [
      "Requirement already satisfied: firecrawl-py in c:\\users\\noelm\\appdata\\local\\programs\\python\\python312\\lib\\site-packages (0.0.20)\n",
      "Requirement already satisfied: requests in c:\\users\\noelm\\appdata\\local\\programs\\python\\python312\\lib\\site-packages (from firecrawl-py) (2.32.3)\n",
      "Requirement already satisfied: charset-normalizer<4,>=2 in c:\\users\\noelm\\appdata\\local\\programs\\python\\python312\\lib\\site-packages (from requests->firecrawl-py) (3.3.2)\n",
      "Requirement already satisfied: idna<4,>=2.5 in c:\\users\\noelm\\appdata\\local\\programs\\python\\python312\\lib\\site-packages (from requests->firecrawl-py) (3.7)\n",
      "Requirement already satisfied: urllib3<3,>=1.21.1 in c:\\users\\noelm\\appdata\\local\\programs\\python\\python312\\lib\\site-packages (from requests->firecrawl-py) (2.2.2)\n",
      "Requirement already satisfied: certifi>=2017.4.17 in c:\\users\\noelm\\appdata\\local\\programs\\python\\python312\\lib\\site-packages (from requests->firecrawl-py) (2024.7.4)\n",
      "Note: you may need to restart the kernel to use updated packages.\n"
     ]
    }
   ],
   "source": [
    "pip install firecrawl-py\n"
   ]
  },
  {
   "cell_type": "code",
   "execution_count": 40,
   "metadata": {},
   "outputs": [
    {
     "name": "stdout",
     "output_type": "stream",
     "text": [
      "Name: firecrawl\n",
      "Version: 0.0.20\n",
      "Summary: Python SDK for Firecrawl API\n",
      "Home-page: https://github.com/mendableai/firecrawl\n",
      "Author: Mendable.ai\n",
      "Author-email: \"Mendable.ai\" <nick@mendable.ai>\n",
      "License: GNU General Public License v3 (GPLv3)\n",
      "Location: c:\\Users\\noelm\\AppData\\Local\\Programs\\Python\\Python312\\Lib\\site-packages\n",
      "Requires: requests\n",
      "Required-by: \n",
      "Note: you may need to restart the kernel to use updated packages.\n"
     ]
    }
   ],
   "source": [
    "pip show firecrawl\n"
   ]
  },
  {
   "cell_type": "code",
   "execution_count": 41,
   "metadata": {},
   "outputs": [
    {
     "name": "stdout",
     "output_type": "stream",
     "text": [
      "Requirement already satisfied: firecrawl-py in c:\\users\\noelm\\appdata\\local\\programs\\python\\python312\\lib\\site-packages (0.0.20)\n",
      "Requirement already satisfied: requests in c:\\users\\noelm\\appdata\\local\\programs\\python\\python312\\lib\\site-packages (from firecrawl-py) (2.32.3)\n",
      "Requirement already satisfied: charset-normalizer<4,>=2 in c:\\users\\noelm\\appdata\\local\\programs\\python\\python312\\lib\\site-packages (from requests->firecrawl-py) (3.3.2)\n",
      "Requirement already satisfied: idna<4,>=2.5 in c:\\users\\noelm\\appdata\\local\\programs\\python\\python312\\lib\\site-packages (from requests->firecrawl-py) (3.7)\n",
      "Requirement already satisfied: urllib3<3,>=1.21.1 in c:\\users\\noelm\\appdata\\local\\programs\\python\\python312\\lib\\site-packages (from requests->firecrawl-py) (2.2.2)\n",
      "Requirement already satisfied: certifi>=2017.4.17 in c:\\users\\noelm\\appdata\\local\\programs\\python\\python312\\lib\\site-packages (from requests->firecrawl-py) (2024.7.4)\n",
      "Note: you may need to restart the kernel to use updated packages.\n"
     ]
    }
   ],
   "source": [
    "pip install firecrawl-py"
   ]
  },
  {
   "cell_type": "code",
   "execution_count": 42,
   "metadata": {},
   "outputs": [],
   "source": [
    "import pandas as pd\n",
    "from groq import Groq\n",
    "import openpyxl\n",
    "from dotenv import load_dotenv\n",
    "from firecrawl import FirecrawlApp\n",
    "import json\n",
    "import datetime \n",
    "import os"
   ]
  },
  {
   "cell_type": "code",
   "execution_count": 43,
   "metadata": {},
   "outputs": [],
   "source": [
    "def scrapdata():\n",
    "    load_dotenv()\n",
    "    app = FireCrawlerApp(api_key = os.getenv(\"FIRECRAWL_API_KEY\"))\n",
    "    scrapeddata = app.scrape_url(url)\n",
    "    if 'maekdown' in scrapeddata:\n",
    "        scrapeddata = scrapeddata['markdown']"
   ]
  },
  {
   "cell_type": "code",
   "execution_count": 44,
   "metadata": {},
   "outputs": [],
   "source": [
    "def scrapedata(url):\n",
    "    load_dotenv()\n",
    "    app = FirecrawlApp(api_key = os.getenv('FIRECRAWL_API_KEY'))\n",
    "    scrapeddata = app.scrape_url(url)\n",
    "    if 'markdown' in scrapeddata:\n",
    "        return scrapeddata['markdown']\n",
    "    else:\n",
    "        raise KeyError(\"Mardown Not Found\")\n",
    "    \n",
    "# This is the Function to save the raw data"
   ]
  },
  {
   "cell_type": "code",
   "execution_count": 45,
   "metadata": {},
   "outputs": [],
   "source": [
    "\n",
    "def savedata(rawdata,timestamp,output_folder = 'output'):\n",
    "    os.makedirs(output_folder,exist_ok=True)\n",
    "    \n",
    "    rawpath = os.path.join(output_folder, f'rawData_{timestamp}.md')\n",
    "    with open(rawpath, 'w',encoding='utf-8') as f:\n",
    "        f.write(rawdata)\n",
    "    print(f\"Raw Data saved to {rawpath}\")\n",
    "    \n",
    "# This function holds the llm model, mainly defining response format"
   ]
  },
  {
   "cell_type": "code",
   "execution_count": 46,
   "metadata": {},
   "outputs": [],
   "source": [
    " "
   ]
  },
  {
   "cell_type": "code",
   "execution_count": 47,
   "metadata": {},
   "outputs": [],
   "source": [
    "def save_formatted_data(formatted_data, timestamp, output_folder='output'):\n",
    "       \n",
    "    os.makedirs(output_folder, exist_ok=True)\n",
    "    \n",
    "    output_path = os.path.join(output_folder, f'sorted_data_{timestamp}.json')\n",
    "    with open(output_path, 'w', encoding='utf-8') as f:\n",
    "        json.dump(formatted_data, f, indent=4)\n",
    "    print(f\"Formatted data saved to {output_path}\")\n",
    "\n",
    "    if isinstance(formatted_data, dict) and len(formatted_data) == 1:\n",
    "        key = next(iter(formatted_data))\n",
    "        formatted_data = formatted_data[key]\n",
    "\n",
    "    if isinstance(formatted_data, dict):\n",
    "        formatted_data = [formatted_data]\n",
    "\n",
    "    df = pd.DataFrame(formatted_data)\n",
    "\n",
    "    excel_output_path = os.path.join(output_folder, f'sorted_data_{timestamp}.xlsx')\n",
    "    df.to_excel(excel_output_path, index=False)\n",
    "    print(f\"Formatted data saved to Excel at {excel_output_path}\")"
   ]
  },
  {
   "cell_type": "code",
   "execution_count": 49,
   "metadata": {},
   "outputs": [
    {
     "name": "stdout",
     "output_type": "stream",
     "text": [
      "Raw Data saved to output\\rawData_20240801_123505.md\n",
      "Formatted data received from API: {}\n",
      "Formatted data saved to output\\sorted_data_20240801_123505.json\n",
      "Formatted data saved to Excel at output\\sorted_data_20240801_123505.xlsx\n"
     ]
    }
   ],
   "source": [
    "if __name__ == \"__main__\":\n",
    "        # Scrape a single URL\n",
    "        url = 'https://www.amazon.in/s?k=apple&crid=2OU55Q5J8J1OE&sprefix=app%2Caps%2C643&ref=nb_sb_noss_2'\n",
    "        \n",
    "        try:\n",
    "            timestamp = datetime.datetime.now().strftime('%Y%m%d_%H%M%S')\n",
    "            \n",
    "            raw_data = scrapedata(url)\n",
    "            \n",
    "            savedata(raw_data, timestamp)\n",
    " \n",
    "            formatted_data = formatdata(raw_data)\n",
    "            \n",
    "            save_formatted_data(formatted_data, timestamp)\n",
    "            \n",
    "        except Exception as e:\n",
    "            print(f\"An error occurred: {e}\")"
   ]
  },
  {
   "cell_type": "code",
   "execution_count": null,
   "metadata": {},
   "outputs": [],
   "source": []
  },
  {
   "cell_type": "code",
   "execution_count": null,
   "metadata": {},
   "outputs": [],
   "source": []
  }
 ],
 "metadata": {
  "kernelspec": {
   "display_name": "Python 3",
   "language": "python",
   "name": "python3"
  },
  "language_info": {
   "codemirror_mode": {
    "name": "ipython",
    "version": 3
   },
   "file_extension": ".py",
   "mimetype": "text/x-python",
   "name": "python",
   "nbconvert_exporter": "python",
   "pygments_lexer": "ipython3",
   "version": "3.12.4"
  }
 },
 "nbformat": 4,
 "nbformat_minor": 2
}
